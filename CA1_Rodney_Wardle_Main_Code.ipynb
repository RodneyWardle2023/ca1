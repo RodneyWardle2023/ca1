{
 "cells": [
  {
   "cell_type": "code",
   "execution_count": 1,
   "id": "437b1e0d",
   "metadata": {},
   "outputs": [],
   "source": [
    "import pandas as pd\n",
    "import seaborn as sns\n",
    "import numpy as np\n",
    "import matplotlib.pyplot as plt"
   ]
  },
  {
   "cell_type": "code",
   "execution_count": 3,
   "id": "d1c13ff0",
   "metadata": {},
   "outputs": [
    {
     "name": "stdout",
     "output_type": "stream",
     "text": [
      "                                     Statistic Label  Year        County  \\\n",
      "0  Registrations of Domestic Waste Water Treatmen...  2017  All Counties   \n",
      "1  Registrations of Domestic Waste Water Treatmen...  2017  All Counties   \n",
      "2  Registrations of Domestic Waste Water Treatmen...  2017  All Counties   \n",
      "3  Registrations of Domestic Waste Water Treatmen...  2017  All Counties   \n",
      "4  Registrations of Domestic Waste Water Treatmen...  2017  All Counties   \n",
      "\n",
      "       Registrations       Type of Owner    UNIT     VALUE  \n",
      "0  All Registrations      All Owner Type  Number  463438.0  \n",
      "1  All Registrations            Domestic  Number  450510.0  \n",
      "2  All Registrations    Public Authority  Number    7220.0  \n",
      "3  All Registrations  Other Non-Domestic  Number    5708.0  \n",
      "4  New Registrations      All Owner Type  Number    3562.0  \n"
     ]
    }
   ],
   "source": [
    "# reading in the data set in csv format\n",
    "df = pd.read_csv(\"CA_Data.csv\")\n",
    "\n",
    "#this will allow us to print the first few rows of the chosen dataset\n",
    "print(df.head())"
   ]
  },
  {
   "cell_type": "code",
   "execution_count": null,
   "id": "6a3a38ea",
   "metadata": {},
   "outputs": [],
   "source": []
  }
 ],
 "metadata": {
  "kernelspec": {
   "display_name": "Python 3 (ipykernel)",
   "language": "python",
   "name": "python3"
  },
  "language_info": {
   "codemirror_mode": {
    "name": "ipython",
    "version": 3
   },
   "file_extension": ".py",
   "mimetype": "text/x-python",
   "name": "python",
   "nbconvert_exporter": "python",
   "pygments_lexer": "ipython3",
   "version": "3.9.7"
  }
 },
 "nbformat": 4,
 "nbformat_minor": 5
}
