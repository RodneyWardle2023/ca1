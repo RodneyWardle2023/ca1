{
 "cells": [
  {
   "cell_type": "code",
   "execution_count": 1,
   "id": "437b1e0d",
   "metadata": {},
   "outputs": [],
   "source": [
    "import pandas as pd\n",
    "import seaborn as sns\n",
    "import numpy as np\n",
    "import matplotlib.pyplot as plt"
   ]
  },
  {
   "cell_type": "code",
   "execution_count": 3,
   "id": "37cab708",
   "metadata": {
    "scrolled": true
   },
   "outputs": [
    {
     "name": "stdout",
     "output_type": "stream",
     "text": [
      "          Statistic Label  Year     Sex  \\\n",
      "319  Estimated Population  2023  Female   \n",
      "320  Estimated Population  2023  Female   \n",
      "321  Estimated Population  2023  Female   \n",
      "322  Estimated Population  2023  Female   \n",
      "323  Estimated Population  2023  Female   \n",
      "\n",
      "                                           Citizenship      UNIT   VALUE  \n",
      "319  EU14 excl Irl (countries in the EU pre 2004 ex...  Thousand    50.0  \n",
      "320  EU15 to EU27 (accession countries joined post ...  Thousand   122.6  \n",
      "321                                     United Kingdom  Thousand    40.5  \n",
      "322                                            Ireland  Thousand  2287.5  \n",
      "323  All countries excluding Ireland,United Kingdom...  Thousand   174.7  \n"
     ]
    }
   ],
   "source": [
    "# reading in the data set in csv format\n",
    "df = pd.read_csv(\"PEA25.20231012T181010.csv\")\n",
    "\n",
    "#this will allow us to print the first few rows of the chosen dataset\n",
    "print(df.tail())"
   ]
  },
  {
   "cell_type": "code",
   "execution_count": null,
   "id": "13679018",
   "metadata": {},
   "outputs": [],
   "source": []
  },
  {
   "cell_type": "code",
   "execution_count": null,
   "id": "3a7349a5",
   "metadata": {},
   "outputs": [],
   "source": []
  }
 ],
 "metadata": {
  "kernelspec": {
   "display_name": "Python 3 (ipykernel)",
   "language": "python",
   "name": "python3"
  },
  "language_info": {
   "codemirror_mode": {
    "name": "ipython",
    "version": 3
   },
   "file_extension": ".py",
   "mimetype": "text/x-python",
   "name": "python",
   "nbconvert_exporter": "python",
   "pygments_lexer": "ipython3",
   "version": "3.9.7"
  }
 },
 "nbformat": 4,
 "nbformat_minor": 5
}
