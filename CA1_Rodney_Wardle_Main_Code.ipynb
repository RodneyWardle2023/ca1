{
 "cells": [
  {
   "cell_type": "code",
   "execution_count": 1,
   "id": "68897c2e",
   "metadata": {},
   "outputs": [],
   "source": [
    "import pandas as pd\n",
    "import seaborn as sns\n",
    "import numpy as np\n",
    "import matplotlib.pyplot as plt"
   ]
  },
  {
   "cell_type": "code",
   "execution_count": 2,
   "id": "37cab708",
   "metadata": {
    "scrolled": true
   },
   "outputs": [
    {
     "name": "stdout",
     "output_type": "stream",
     "text": [
      "            STATISTIC Label  Year         Component      UNIT  VALUE\n",
      "0  Annual Population Change  1951     Annual births  Thousand    NaN\n",
      "1  Annual Population Change  1951     Annual deaths  Thousand    NaN\n",
      "2  Annual Population Change  1951  Natural increase  Thousand   26.6\n",
      "3  Annual Population Change  1951        Immigrants  Thousand    NaN\n",
      "4  Annual Population Change  1951         Emigrants  Thousand    NaN\n"
     ]
    }
   ],
   "source": [
    "# reading in the data set in csv format\n",
    "df = pd.read_csv(\"PEA15.20231016T181007.csv\")\n",
    "\n",
    "#this will allow us to print the first few rows of the chosen dataset\n",
    "print(df.head())"
   ]
  },
  {
   "cell_type": "code",
   "execution_count": 3,
   "id": "d3e9c79b",
   "metadata": {},
   "outputs": [
    {
     "data": {
      "text/html": [
       "<div>\n",
       "<style scoped>\n",
       "    .dataframe tbody tr th:only-of-type {\n",
       "        vertical-align: middle;\n",
       "    }\n",
       "\n",
       "    .dataframe tbody tr th {\n",
       "        vertical-align: top;\n",
       "    }\n",
       "\n",
       "    .dataframe thead th {\n",
       "        text-align: right;\n",
       "    }\n",
       "</style>\n",
       "<table border=\"1\" class=\"dataframe\">\n",
       "  <thead>\n",
       "    <tr style=\"text-align: right;\">\n",
       "      <th></th>\n",
       "      <th>STATISTIC Label</th>\n",
       "      <th>Component</th>\n",
       "      <th>UNIT</th>\n",
       "    </tr>\n",
       "  </thead>\n",
       "  <tbody>\n",
       "    <tr>\n",
       "      <th>count</th>\n",
       "      <td>584</td>\n",
       "      <td>584</td>\n",
       "      <td>584</td>\n",
       "    </tr>\n",
       "    <tr>\n",
       "      <th>unique</th>\n",
       "      <td>1</td>\n",
       "      <td>8</td>\n",
       "      <td>1</td>\n",
       "    </tr>\n",
       "    <tr>\n",
       "      <th>top</th>\n",
       "      <td>Annual Population Change</td>\n",
       "      <td>Annual births</td>\n",
       "      <td>Thousand</td>\n",
       "    </tr>\n",
       "    <tr>\n",
       "      <th>freq</th>\n",
       "      <td>584</td>\n",
       "      <td>73</td>\n",
       "      <td>584</td>\n",
       "    </tr>\n",
       "  </tbody>\n",
       "</table>\n",
       "</div>"
      ],
      "text/plain": [
       "                 STATISTIC Label      Component      UNIT\n",
       "count                        584            584       584\n",
       "unique                         1              8         1\n",
       "top     Annual Population Change  Annual births  Thousand\n",
       "freq                         584             73       584"
      ]
     },
     "execution_count": 3,
     "metadata": {},
     "output_type": "execute_result"
    }
   ],
   "source": [
    "df.describe(include=object)"
   ]
  },
  {
   "cell_type": "code",
   "execution_count": 4,
   "id": "dd7efc6b",
   "metadata": {},
   "outputs": [
    {
     "data": {
      "text/plain": [
       "(584, 5)"
      ]
     },
     "execution_count": 4,
     "metadata": {},
     "output_type": "execute_result"
    }
   ],
   "source": [
    "df.shape"
   ]
  },
  {
   "cell_type": "code",
   "execution_count": 5,
   "id": "8a6f3364",
   "metadata": {},
   "outputs": [
    {
     "data": {
      "text/html": [
       "<div>\n",
       "<style scoped>\n",
       "    .dataframe tbody tr th:only-of-type {\n",
       "        vertical-align: middle;\n",
       "    }\n",
       "\n",
       "    .dataframe tbody tr th {\n",
       "        vertical-align: top;\n",
       "    }\n",
       "\n",
       "    .dataframe thead th {\n",
       "        text-align: right;\n",
       "    }\n",
       "</style>\n",
       "<table border=\"1\" class=\"dataframe\">\n",
       "  <thead>\n",
       "    <tr style=\"text-align: right;\">\n",
       "      <th></th>\n",
       "      <th>STATISTIC Label</th>\n",
       "      <th>Year</th>\n",
       "      <th>Component</th>\n",
       "      <th>UNIT</th>\n",
       "      <th>VALUE</th>\n",
       "    </tr>\n",
       "  </thead>\n",
       "  <tbody>\n",
       "    <tr>\n",
       "      <th>0</th>\n",
       "      <td>Annual Population Change</td>\n",
       "      <td>1951</td>\n",
       "      <td>Annual births</td>\n",
       "      <td>Thousand</td>\n",
       "      <td>NaN</td>\n",
       "    </tr>\n",
       "    <tr>\n",
       "      <th>1</th>\n",
       "      <td>Annual Population Change</td>\n",
       "      <td>1951</td>\n",
       "      <td>Annual deaths</td>\n",
       "      <td>Thousand</td>\n",
       "      <td>NaN</td>\n",
       "    </tr>\n",
       "    <tr>\n",
       "      <th>2</th>\n",
       "      <td>Annual Population Change</td>\n",
       "      <td>1951</td>\n",
       "      <td>Natural increase</td>\n",
       "      <td>Thousand</td>\n",
       "      <td>26.6</td>\n",
       "    </tr>\n",
       "    <tr>\n",
       "      <th>3</th>\n",
       "      <td>Annual Population Change</td>\n",
       "      <td>1951</td>\n",
       "      <td>Immigrants</td>\n",
       "      <td>Thousand</td>\n",
       "      <td>NaN</td>\n",
       "    </tr>\n",
       "    <tr>\n",
       "      <th>4</th>\n",
       "      <td>Annual Population Change</td>\n",
       "      <td>1951</td>\n",
       "      <td>Emigrants</td>\n",
       "      <td>Thousand</td>\n",
       "      <td>NaN</td>\n",
       "    </tr>\n",
       "    <tr>\n",
       "      <th>...</th>\n",
       "      <td>...</td>\n",
       "      <td>...</td>\n",
       "      <td>...</td>\n",
       "      <td>...</td>\n",
       "      <td>...</td>\n",
       "    </tr>\n",
       "    <tr>\n",
       "      <th>579</th>\n",
       "      <td>Annual Population Change</td>\n",
       "      <td>2023</td>\n",
       "      <td>Immigrants</td>\n",
       "      <td>Thousand</td>\n",
       "      <td>141.6</td>\n",
       "    </tr>\n",
       "    <tr>\n",
       "      <th>580</th>\n",
       "      <td>Annual Population Change</td>\n",
       "      <td>2023</td>\n",
       "      <td>Emigrants</td>\n",
       "      <td>Thousand</td>\n",
       "      <td>64.0</td>\n",
       "    </tr>\n",
       "    <tr>\n",
       "      <th>581</th>\n",
       "      <td>Annual Population Change</td>\n",
       "      <td>2023</td>\n",
       "      <td>Net migration</td>\n",
       "      <td>Thousand</td>\n",
       "      <td>77.6</td>\n",
       "    </tr>\n",
       "    <tr>\n",
       "      <th>582</th>\n",
       "      <td>Annual Population Change</td>\n",
       "      <td>2023</td>\n",
       "      <td>Population change</td>\n",
       "      <td>Thousand</td>\n",
       "      <td>97.6</td>\n",
       "    </tr>\n",
       "    <tr>\n",
       "      <th>583</th>\n",
       "      <td>Annual Population Change</td>\n",
       "      <td>2023</td>\n",
       "      <td>Population</td>\n",
       "      <td>Thousand</td>\n",
       "      <td>5281.6</td>\n",
       "    </tr>\n",
       "  </tbody>\n",
       "</table>\n",
       "<p>584 rows × 5 columns</p>\n",
       "</div>"
      ],
      "text/plain": [
       "              STATISTIC Label  Year          Component      UNIT   VALUE\n",
       "0    Annual Population Change  1951      Annual births  Thousand     NaN\n",
       "1    Annual Population Change  1951      Annual deaths  Thousand     NaN\n",
       "2    Annual Population Change  1951   Natural increase  Thousand    26.6\n",
       "3    Annual Population Change  1951         Immigrants  Thousand     NaN\n",
       "4    Annual Population Change  1951          Emigrants  Thousand     NaN\n",
       "..                        ...   ...                ...       ...     ...\n",
       "579  Annual Population Change  2023         Immigrants  Thousand   141.6\n",
       "580  Annual Population Change  2023          Emigrants  Thousand    64.0\n",
       "581  Annual Population Change  2023      Net migration  Thousand    77.6\n",
       "582  Annual Population Change  2023  Population change  Thousand    97.6\n",
       "583  Annual Population Change  2023         Population  Thousand  5281.6\n",
       "\n",
       "[584 rows x 5 columns]"
      ]
     },
     "metadata": {},
     "output_type": "display_data"
    }
   ],
   "source": [
    "display(df)"
   ]
  },
  {
   "cell_type": "code",
   "execution_count": 6,
   "id": "822de5be",
   "metadata": {},
   "outputs": [
    {
     "name": "stdout",
     "output_type": "stream",
     "text": [
      "<class 'pandas.core.frame.DataFrame'>\n",
      "RangeIndex: 584 entries, 0 to 583\n",
      "Data columns (total 5 columns):\n",
      " #   Column           Non-Null Count  Dtype  \n",
      "---  ------           --------------  -----  \n",
      " 0   STATISTIC Label  584 non-null    object \n",
      " 1   Year             584 non-null    int64  \n",
      " 2   Component        584 non-null    object \n",
      " 3   UNIT             584 non-null    object \n",
      " 4   VALUE            440 non-null    float64\n",
      "dtypes: float64(1), int64(1), object(3)\n",
      "memory usage: 22.9+ KB\n"
     ]
    }
   ],
   "source": [
    "df.info()"
   ]
  },
  {
   "cell_type": "code",
   "execution_count": 7,
   "id": "78045808",
   "metadata": {},
   "outputs": [
    {
     "data": {
      "text/plain": [
       "1951    8\n",
       "1988    8\n",
       "2004    8\n",
       "2003    8\n",
       "2002    8\n",
       "       ..\n",
       "1975    8\n",
       "1974    8\n",
       "1973    8\n",
       "1972    8\n",
       "2023    8\n",
       "Name: Year, Length: 73, dtype: int64"
      ]
     },
     "execution_count": 7,
     "metadata": {},
     "output_type": "execute_result"
    }
   ],
   "source": [
    "df.Year.value_counts()"
   ]
  }
 ],
 "metadata": {
  "kernelspec": {
   "display_name": "Python 3 (ipykernel)",
   "language": "python",
   "name": "python3"
  },
  "language_info": {
   "codemirror_mode": {
    "name": "ipython",
    "version": 3
   },
   "file_extension": ".py",
   "mimetype": "text/x-python",
   "name": "python",
   "nbconvert_exporter": "python",
   "pygments_lexer": "ipython3",
   "version": "3.9.7"
  }
 },
 "nbformat": 4,
 "nbformat_minor": 5
}
